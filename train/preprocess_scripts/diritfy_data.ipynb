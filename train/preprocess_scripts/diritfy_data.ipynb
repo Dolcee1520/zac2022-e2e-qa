{
 "cells": [
  {
   "cell_type": "code",
   "execution_count": 1,
   "id": "ef44d1a7-808e-4fa0-aaa7-368ddfd37915",
   "metadata": {},
   "outputs": [],
   "source": [
    "import json\n",
    "import pandas as pd\n",
    "from tqdm.auto import tqdm\n",
    "tqdm.pandas()\n",
    "import numpy as np"
   ]
  },
  {
   "cell_type": "code",
   "execution_count": null,
   "id": "4bbb1d1a-486c-459b-a233-5e5b8310f96a",
   "metadata": {},
   "outputs": [],
   "source": [
    "df = pd.read_csv(\"../processed/wikipedia_20220620_cleaned_v2.csv\")\n",
    "train = json.load(open(\"../za-data/zac2022_train_merged_final.json\"))"
   ]
  },
  {
   "cell_type": "code",
   "execution_count": 5,
   "id": "673d547b-9496-45af-b5d9-c9b690aa9eda",
   "metadata": {},
   "outputs": [],
   "source": [
    "for x in train['data']:\n",
    "    x['dirty_text'] = None"
   ]
  },
  {
   "cell_type": "code",
   "execution_count": 6,
   "id": "026e86c7-ec68-46bf-836c-d090ab5ebce6",
   "metadata": {},
   "outputs": [],
   "source": [
    "all_titles = dict([(x.strip(),True) for x in open(\"../za-qa/wikipedia_20220620_all_titles.txt\").readlines()])"
   ]
  },
  {
   "cell_type": "code",
   "execution_count": 7,
   "id": "a8a999dc-0111-4172-964b-14366ff4f680",
   "metadata": {
    "tags": []
   },
   "outputs": [],
   "source": [
    "import json \n",
    "from glob import glob \n",
    "import re \n",
    "from nltk import word_tokenize as lib_tokenizer \n",
    " \n",
    "dict_map = dict({}) \n",
    " \n",
    "def word_tokenize(text): \n",
    "    global dict_map \n",
    "    words = text.split() \n",
    "    words_norm = [] \n",
    "    for w in words: \n",
    "        if dict_map.get(w, None) is None: \n",
    "            dict_map[w] = ' '.join(lib_tokenizer(w)).replace('``', '\"').replace(\"''\", '\"') \n",
    "        words_norm.append(dict_map[w]) \n",
    "    return words_norm \n",
    " \n",
    "def strip_answer_string(text): \n",
    "    text = text.strip() \n",
    "    while text[-1] in '.,/><;:\\'\"[]{}+=-_)(*&^!~`': \n",
    "        if text[0] != '(' and text[-1] == ')' and '(' in text: \n",
    "            break \n",
    "        if text[-1] == '\"' and text[0] != '\"' and text.count('\"') > 1: \n",
    "            break \n",
    "        text = text[:-1].strip() \n",
    "    while text[0] in '.,/><;:\\'\"[]{}+=-_)(*&^!~`': \n",
    "        if text[0] == '\"' and text[-1] != '\"' and text.count('\"') > 1: \n",
    "            break \n",
    "        text = text[1:].strip() \n",
    "    text = text.strip() \n",
    "    return text \n",
    " \n",
    "def strip_context(text): \n",
    "    text = text.replace('\\n', ' ') \n",
    "    text = re.sub(r'\\s+', ' ', text) \n",
    "    text = text.strip() \n",
    "    return text"
   ]
  },
  {
   "cell_type": "code",
   "execution_count": 8,
   "id": "e209b9e2-471f-4d11-9c6e-d303be098742",
   "metadata": {},
   "outputs": [],
   "source": [
    "# df.question = df.question.apply(lambda x: \" \".join(word_tokenize(strip_context(x))))"
   ]
  },
  {
   "cell_type": "code",
   "execution_count": 9,
   "id": "27c9423c-e58b-4a50-a7a2-193d616fdf23",
   "metadata": {},
   "outputs": [
    {
     "name": "stdout",
     "output_type": "stream",
     "text": [
      "INFO: Pandarallel will run on 10 workers.\n",
      "INFO: Pandarallel will use standard multiprocessing data transfer (pipe) to transfer data between the main process and workers.\n"
     ]
    }
   ],
   "source": [
    "from pandarallel import pandarallel\n",
    "\n",
    "pandarallel.initialize(progress_bar=True, use_memory_fs=False, nb_workers=10)"
   ]
  },
  {
   "cell_type": "code",
   "execution_count": 10,
   "id": "1ef91194-1e8e-4b14-8bb0-a2438b533e03",
   "metadata": {},
   "outputs": [
    {
     "data": {
      "application/vnd.jupyter.widget-view+json": {
       "model_id": "3ee26fad4dd441ac9670a89db05539d9",
       "version_major": 2,
       "version_minor": 0
      },
      "text/plain": [
       "VBox(children=(HBox(children=(IntProgress(value=0, description='0.00%', max=194441), Label(value='0 / 194441')…"
      ]
     },
     "metadata": {},
     "output_type": "display_data"
    }
   ],
   "source": [
    "df[\"cleaned_text\"] = df.text.parallel_apply(lambda x: \" \".join(word_tokenize(strip_context(x))))"
   ]
  },
  {
   "cell_type": "code",
   "execution_count": 11,
   "id": "b51a5c52-7930-416d-98de-bfbf6f21cf38",
   "metadata": {},
   "outputs": [],
   "source": [
    "train_titles = set([x['title'].strip() for x in train['data'] if len(x['title']) > 0])"
   ]
  },
  {
   "cell_type": "code",
   "execution_count": 12,
   "id": "f3874b8a-c7e4-43c3-a426-661a91b1104c",
   "metadata": {},
   "outputs": [
    {
     "data": {
      "application/vnd.jupyter.widget-view+json": {
       "model_id": "d8ae145a53444018bafbdb14c2c7eca6",
       "version_major": 2,
       "version_minor": 0
      },
      "text/plain": [
       "VBox(children=(HBox(children=(IntProgress(value=0, description='0.00%', max=194441), Label(value='0 / 194441')…"
      ]
     },
     "metadata": {},
     "output_type": "display_data"
    }
   ],
   "source": [
    "df[\"valid\"] = df.title.parallel_apply(lambda x: str(x).strip() in train_titles)"
   ]
  },
  {
   "cell_type": "code",
   "execution_count": 13,
   "id": "537dad92-74ed-4c1a-b9b8-b122029e737a",
   "metadata": {},
   "outputs": [],
   "source": [
    "df = df[df.valid]\n",
    "df = df.reset_index(drop=True)"
   ]
  },
  {
   "cell_type": "code",
   "execution_count": 14,
   "id": "39ac043d-5e5b-4810-b28d-ff0978113920",
   "metadata": {},
   "outputs": [
    {
     "data": {
      "text/plain": [
       "(8782,)"
      ]
     },
     "execution_count": 14,
     "metadata": {},
     "output_type": "execute_result"
    }
   ],
   "source": [
    "df.title.unique().shape"
   ]
  },
  {
   "cell_type": "code",
   "execution_count": 15,
   "id": "60330deb-861f-4a3d-bbe0-ac2c33864e94",
   "metadata": {},
   "outputs": [],
   "source": [
    "train_df = pd.DataFrame()\n",
    "train_df[\"id\"] = [x['id'] for x in train['data']]\n",
    "train_df[\"title\"] = [x['title'] for x in train['data']]\n",
    "train_df[\"text\"] = [x['text'] for x in train['data']]"
   ]
  },
  {
   "cell_type": "code",
   "execution_count": 16,
   "id": "a1b7caf7-b0aa-420e-a7c6-ce90a3d6bef5",
   "metadata": {},
   "outputs": [],
   "source": [
    "def find_dirty_text(title, text):\n",
    "    text= \" \".join(word_tokenize(strip_context(text)))\n",
    "    if text[-1] == \".\":\n",
    "        text = text[:-1].strip()\n",
    "    tmp = df[df.title == title].reset_index(drop=True)\n",
    "    if len(tmp) == 0:\n",
    "        # print(title)\n",
    "        return None\n",
    "    for candidate in tmp.cleaned_text:\n",
    "        if text in candidate:\n",
    "            # print(\"Found dirty\")\n",
    "            return candidate\n",
    "    return text"
   ]
  },
  {
   "cell_type": "code",
   "execution_count": 17,
   "id": "b1caaa9f-7e58-4a9f-8dd6-442de86899c3",
   "metadata": {
    "scrolled": true,
    "tags": []
   },
   "outputs": [
    {
     "data": {
      "application/vnd.jupyter.widget-view+json": {
       "model_id": "31f95bf7f29c4ed2a438513d835d5c19",
       "version_major": 2,
       "version_minor": 0
      },
      "text/plain": [
       "VBox(children=(HBox(children=(IntProgress(value=0, description='0.00%', max=2086), Label(value='0 / 2086'))), …"
      ]
     },
     "metadata": {},
     "output_type": "display_data"
    }
   ],
   "source": [
    "train_df[\"dirty_text\"] = train_df.parallel_apply(lambda row: find_dirty_text(row.title, row.text),axis=1)"
   ]
  },
  {
   "cell_type": "code",
   "execution_count": 18,
   "id": "5b961672-0a1e-4045-a8ac-10aabb474175",
   "metadata": {},
   "outputs": [
    {
     "data": {
      "text/html": [
       "<div>\n",
       "<style scoped>\n",
       "    .dataframe tbody tr th:only-of-type {\n",
       "        vertical-align: middle;\n",
       "    }\n",
       "\n",
       "    .dataframe tbody tr th {\n",
       "        vertical-align: top;\n",
       "    }\n",
       "\n",
       "    .dataframe thead th {\n",
       "        text-align: right;\n",
       "    }\n",
       "</style>\n",
       "<table border=\"1\" class=\"dataframe\">\n",
       "  <thead>\n",
       "    <tr style=\"text-align: right;\">\n",
       "      <th></th>\n",
       "      <th>id</th>\n",
       "      <th>title</th>\n",
       "      <th>text</th>\n",
       "      <th>dirty_text</th>\n",
       "    </tr>\n",
       "  </thead>\n",
       "  <tbody>\n",
       "    <tr>\n",
       "      <th>1</th>\n",
       "      <td>c926e7b0717202618a10dd907d4b4c39</td>\n",
       "      <td></td>\n",
       "      <td>có 23 quốc gia không có lực lượng quân đội, ba...</td>\n",
       "      <td>None</td>\n",
       "    </tr>\n",
       "    <tr>\n",
       "      <th>2</th>\n",
       "      <td>d38ef5bf1fb82b410026ed82c8a44cae</td>\n",
       "      <td>Raymondienne</td>\n",
       "      <td>Raymondienne (hay Raymonde Dien) sinh ngày 13 ...</td>\n",
       "      <td>None</td>\n",
       "    </tr>\n",
       "    <tr>\n",
       "      <th>14</th>\n",
       "      <td>361a30769c1a5dca2a7b8f5c7f601982</td>\n",
       "      <td>Bánh gai Tứ Trụ</td>\n",
       "      <td>Làng Mía thuộc hữu ngạn sông Chu, cách thị trấ...</td>\n",
       "      <td>None</td>\n",
       "    </tr>\n",
       "    <tr>\n",
       "      <th>18</th>\n",
       "      <td>5d7d3b0d5cd7b2917a2081c3b4d7c8a8</td>\n",
       "      <td>Nhà nước Hồi giáo ( chính thể )</td>\n",
       "      <td>Khái niệm về nhà nước Hồi giáo hiện đại đã đượ...</td>\n",
       "      <td>None</td>\n",
       "    </tr>\n",
       "    <tr>\n",
       "      <th>20</th>\n",
       "      <td>d7000d411d3f04dee7fa327ef11e3db0</td>\n",
       "      <td>Quan hệ Israel – Liban</td>\n",
       "      <td>Thủ tướng Liban Fouad Siniora cho biết vào thá...</td>\n",
       "      <td>None</td>\n",
       "    </tr>\n",
       "    <tr>\n",
       "      <th>...</th>\n",
       "      <td>...</td>\n",
       "      <td>...</td>\n",
       "      <td>...</td>\n",
       "      <td>...</td>\n",
       "    </tr>\n",
       "    <tr>\n",
       "      <th>20804</th>\n",
       "      <td>cb4d3b162a56b52a4927ab29b739c7a2</td>\n",
       "      <td>Thủy điện An Khê - Kanak</td>\n",
       "      <td>Nhà máy được khởi công xây dựng vào ngày 14 th...</td>\n",
       "      <td>None</td>\n",
       "    </tr>\n",
       "    <tr>\n",
       "      <th>20834</th>\n",
       "      <td>d701dfcba59420604c66e803c9556754</td>\n",
       "      <td>Sao Hoả</td>\n",
       "      <td>Sao Hoả còn gọi là : Hoả Tinh , ( Tiếng Anh : ...</td>\n",
       "      <td>None</td>\n",
       "    </tr>\n",
       "    <tr>\n",
       "      <th>20836</th>\n",
       "      <td>5769cee0487a9674306d271854244b39</td>\n",
       "      <td></td>\n",
       "      <td>Máy quay phim: Phát minh kỳ diệu của anh em Lu...</td>\n",
       "      <td>None</td>\n",
       "    </tr>\n",
       "    <tr>\n",
       "      <th>20843</th>\n",
       "      <td>5f420b6d68436b684f33dcded61d5a3c</td>\n",
       "      <td>Egil Kapstad</td>\n",
       "      <td>Ông sinh ra tại Oslo, thủ đô của Na Uy và thàn...</td>\n",
       "      <td>None</td>\n",
       "    </tr>\n",
       "    <tr>\n",
       "      <th>20846</th>\n",
       "      <td>323218bcf129df929716884a1a89e2e3</td>\n",
       "      <td></td>\n",
       "      <td>Vật lý học (tiếng Anh: Physics, từ tiếng Hy Lạ...</td>\n",
       "      <td>None</td>\n",
       "    </tr>\n",
       "  </tbody>\n",
       "</table>\n",
       "<p>3498 rows × 4 columns</p>\n",
       "</div>"
      ],
      "text/plain": [
       "                                     id                            title  \\\n",
       "1      c926e7b0717202618a10dd907d4b4c39                                    \n",
       "2      d38ef5bf1fb82b410026ed82c8a44cae                     Raymondienne   \n",
       "14     361a30769c1a5dca2a7b8f5c7f601982                  Bánh gai Tứ Trụ   \n",
       "18     5d7d3b0d5cd7b2917a2081c3b4d7c8a8  Nhà nước Hồi giáo ( chính thể )   \n",
       "20     d7000d411d3f04dee7fa327ef11e3db0           Quan hệ Israel – Liban   \n",
       "...                                 ...                              ...   \n",
       "20804  cb4d3b162a56b52a4927ab29b739c7a2         Thủy điện An Khê - Kanak   \n",
       "20834  d701dfcba59420604c66e803c9556754                          Sao Hoả   \n",
       "20836  5769cee0487a9674306d271854244b39                                    \n",
       "20843  5f420b6d68436b684f33dcded61d5a3c                     Egil Kapstad   \n",
       "20846  323218bcf129df929716884a1a89e2e3                                    \n",
       "\n",
       "                                                    text dirty_text  \n",
       "1      có 23 quốc gia không có lực lượng quân đội, ba...       None  \n",
       "2      Raymondienne (hay Raymonde Dien) sinh ngày 13 ...       None  \n",
       "14     Làng Mía thuộc hữu ngạn sông Chu, cách thị trấ...       None  \n",
       "18     Khái niệm về nhà nước Hồi giáo hiện đại đã đượ...       None  \n",
       "20     Thủ tướng Liban Fouad Siniora cho biết vào thá...       None  \n",
       "...                                                  ...        ...  \n",
       "20804  Nhà máy được khởi công xây dựng vào ngày 14 th...       None  \n",
       "20834  Sao Hoả còn gọi là : Hoả Tinh , ( Tiếng Anh : ...       None  \n",
       "20836  Máy quay phim: Phát minh kỳ diệu của anh em Lu...       None  \n",
       "20843  Ông sinh ra tại Oslo, thủ đô của Na Uy và thàn...       None  \n",
       "20846  Vật lý học (tiếng Anh: Physics, từ tiếng Hy Lạ...       None  \n",
       "\n",
       "[3498 rows x 4 columns]"
      ]
     },
     "execution_count": 18,
     "metadata": {},
     "output_type": "execute_result"
    }
   ],
   "source": [
    "train_df[train_df.dirty_text.isna()]"
   ]
  },
  {
   "cell_type": "code",
   "execution_count": 19,
   "id": "47552421-a286-4c61-b789-1f103896f574",
   "metadata": {},
   "outputs": [],
   "source": [
    "dirty_text_dict = dict([x,y] for x,y in zip(train_df.id, train_df.dirty_text))"
   ]
  },
  {
   "cell_type": "code",
   "execution_count": 20,
   "id": "8c654d5f-0eec-40e5-9c03-54f76b6341bd",
   "metadata": {},
   "outputs": [],
   "source": [
    "for x in train['data']:\n",
    "    x['dirty_text'] = dirty_text_dict.get(x['id'],x['text'])"
   ]
  },
  {
   "cell_type": "code",
   "execution_count": 21,
   "id": "990347d2-7c71-4b95-a5a6-11c767132515",
   "metadata": {},
   "outputs": [],
   "source": [
    "json.dump(train,open(\"../za-data/zac2022_train_merged_final.json\",\"wt\"))"
   ]
  },
  {
   "cell_type": "code",
   "execution_count": null,
   "id": "6f4a1462-f8d3-4707-859a-de016dffebfc",
   "metadata": {},
   "outputs": [],
   "source": []
  }
 ],
 "metadata": {
  "kernelspec": {
   "display_name": "khoint",
   "language": "python",
   "name": "khoint"
  },
  "language_info": {
   "codemirror_mode": {
    "name": "ipython",
    "version": 3
   },
   "file_extension": ".py",
   "mimetype": "text/x-python",
   "name": "python",
   "nbconvert_exporter": "python",
   "pygments_lexer": "ipython3",
   "version": "3.8.11"
  }
 },
 "nbformat": 4,
 "nbformat_minor": 5
}
