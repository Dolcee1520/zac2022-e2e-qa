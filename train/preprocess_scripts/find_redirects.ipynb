{
 "cells": [
  {
   "cell_type": "code",
   "execution_count": null,
   "id": "08f42f8f-83b4-4aee-9b6e-775ce626aa43",
   "metadata": {},
   "outputs": [],
   "source": [
    "import os\n",
    "import json\n",
    "from tqdm.auto import tqdm"
   ]
  },
  {
   "cell_type": "code",
   "execution_count": null,
   "id": "b54625d1-faab-483d-a67f-d858311e74b6",
   "metadata": {},
   "outputs": [],
   "source": [
    "import xml.sax\n",
    "\n",
    "class WikiXmlHandler(xml.sax.handler.ContentHandler):\n",
    "    \"\"\"Content handler for Wiki XML data using SAX\"\"\"\n",
    "    def __init__(self):\n",
    "        xml.sax.handler.ContentHandler.__init__(self)\n",
    "        self._buffer = None\n",
    "        self._values = {}\n",
    "        self._current_tag = None\n",
    "        self._pages = []\n",
    "\n",
    "    def characters(self, content):\n",
    "        \"\"\"Characters between opening and closing tags\"\"\"\n",
    "        if self._current_tag:\n",
    "            self._buffer.append(content)\n",
    "\n",
    "    def startElement(self, name, attrs):\n",
    "        \"\"\"Opening tag of element\"\"\"\n",
    "        if name in ('title', 'text', 'timestamp'):\n",
    "            self._current_tag = name\n",
    "            self._buffer = []\n",
    "\n",
    "    def endElement(self, name):\n",
    "        \"\"\"Closing tag of element\"\"\"\n",
    "        if name == self._current_tag:\n",
    "            self._values[name] = ' '.join(self._buffer)\n",
    "\n",
    "        if name == 'page':\n",
    "            self._pages.append((self._values['title'], self._values['text']))"
   ]
  },
  {
   "cell_type": "code",
   "execution_count": null,
   "id": "db7394b8-4d8a-4127-899a-e26e148b9400",
   "metadata": {},
   "outputs": [
    {
     "data": {
      "text/plain": [
       "[]"
      ]
     },
     "execution_count": 3,
     "metadata": {},
     "output_type": "execute_result"
    }
   ],
   "source": [
    "handler = WikiXmlHandler()\n",
    "\n",
    "# Parsing object\n",
    "parser = xml.sax.make_parser()\n",
    "parser.setContentHandler(handler)\n",
    "\n",
    "handler._pages"
   ]
  },
  {
   "cell_type": "code",
   "execution_count": null,
   "id": "c89ac8db-61af-42a9-b78f-6a4fa451360b",
   "metadata": {},
   "outputs": [],
   "source": [
    "for i, line in tqdm(enumerate(open(\"/path/to/wiki/pages-articles.xml\"))):\n",
    "    parser.feed(line"
   ]
  },
  {
   "cell_type": "code",
   "execution_count": 6,
   "id": "d59a697f-93f0-44f3-9277-e9142615f393",
   "metadata": {},
   "outputs": [
    {
     "data": {
      "text/plain": [
       "2115307"
      ]
     },
     "execution_count": 6,
     "metadata": {},
     "output_type": "execute_result"
    }
   ],
   "source": [
    "len(handler._pages)"
   ]
  },
  {
   "cell_type": "code",
   "execution_count": 7,
   "id": "2fb5b749-d03b-4467-930d-9cf4fb426fdc",
   "metadata": {},
   "outputs": [
    {
     "data": {
      "application/vnd.jupyter.widget-view+json": {
       "model_id": "48c390c5c35d4ff99d493d51f937ea51",
       "version_major": 2,
       "version_minor": 0
      },
      "text/plain": [
       "  0%|          | 0/2115307 [00:00<?, ?it/s]"
      ]
     },
     "metadata": {},
     "output_type": "display_data"
    }
   ],
   "source": [
    "title2page = dict([(x,y) for x,y in tqdm(handler._pages)])\n"
   ]
  },
  {
   "cell_type": "code",
   "execution_count": null,
   "id": "3820f0de-c7ae-4ad1-a0c3-429cce18dc96",
   "metadata": {
    "scrolled": true,
    "tags": []
   },
   "outputs": [],
   "source": [
    "redirects = dict()\n",
    "for title, page in tqdm(title2page.items(), total=len(title2page)):\n",
    "    if \"#redirect\" in page and \":\" not in title:\n",
    "        redirects[title.strip()] = page.split(\"[[\",2)[1].split(\"]]\")[0].strip()\n",
    "        print(title, \"->\", redirects[title])"
   ]
  },
  {
   "cell_type": "code",
   "execution_count": 9,
   "id": "cdf0d60b-581c-447b-a41f-3f76e8b6284b",
   "metadata": {},
   "outputs": [],
   "source": [
    "train = json.load(open(\"../za-data/zac2022_train_merged_final.json\"))\n",
    "entity_dict = dict()\n",
    "for x in train['data']:\n",
    "    if x[\"category\"] == \"FULL_ANNOTATION\" and \"wiki/\" in x[\"answer\"]:\n",
    "        entity_dict[x[\"short_candidate\"]] = x[\"answer\"]\n",
    "for key, val in redirects.items():\n",
    "    redirects[key] = f\"wiki/{val}\".replace(\" \",\"_\")\n",
    "entity_dict.update(redirects)"
   ]
  },
  {
   "cell_type": "code",
   "execution_count": 10,
   "id": "b8a2058f-d81c-4af0-8974-a7c043e7b89a",
   "metadata": {},
   "outputs": [],
   "source": [
    "json.dump(entity_dict, open(\"../processed/entities.json\",\"wt\"))"
   ]
  },
  {
   "cell_type": "code",
   "execution_count": null,
   "id": "006fe0e5-f677-40d4-b2c0-0348be388e80",
   "metadata": {},
   "outputs": [],
   "source": []
  }
 ],
 "metadata": {
  "kernelspec": {
   "display_name": "khoint",
   "language": "python",
   "name": "khoint"
  },
  "language_info": {
   "codemirror_mode": {
    "name": "ipython",
    "version": 3
   },
   "file_extension": ".py",
   "mimetype": "text/x-python",
   "name": "python",
   "nbconvert_exporter": "python",
   "pygments_lexer": "ipython3",
   "version": "3.8.11"
  }
 },
 "nbformat": 4,
 "nbformat_minor": 5
}
