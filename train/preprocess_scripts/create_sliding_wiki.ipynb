{
 "cells": [
  {
   "cell_type": "code",
   "execution_count": 1,
   "id": "d380af40-c49c-403a-b2a0-642cedc1f95c",
   "metadata": {},
   "outputs": [],
   "source": [
    "import os\n",
    "import json\n",
    "import json\n",
    "import regex as re\n",
    "from tqdm.auto import tqdm\n",
    "tqdm.pandas()\n",
    "import math\n",
    "import pandas as pd\n",
    "import string\n",
    "from pyvi.ViTokenizer import tokenize"
   ]
  },
  {
   "cell_type": "code",
   "execution_count": 20,
   "id": "af8e26f6-1b51-477e-b1f7-803a59d2fd6f",
   "metadata": {},
   "outputs": [],
   "source": [
    "_WORD_SPLIT = re.compile(\"([.,!?\\\"/':;)(])\")\n",
    "_DIGIT_RE = re.compile(br\"\\d\")\n",
    "STOP_WORDS = \"\\\" \\' [ ] . , ! : ; ?\".split(\" \")\n",
    "\n",
    "def basic_tokenizer(sentence):\n",
    "    \"\"\"Very basic tokenizer: split the sentence into a list of tokens.\"\"\"\n",
    "    words = []\n",
    "    for space_separated_fragment in sentence.strip().split():\n",
    "        words.extend(_WORD_SPLIT.split(space_separated_fragment))\n",
    "        # return [w.lower() for w in words if w not in stop_words and w != '' and w != ' ']\n",
    "    return [w.lower() for w in words if w != '' and w != ' ' and w not in string.punctuation]\n",
    "\n",
    "def remove_appending_title(text,title):\n",
    "    return text.replace(f\"{title}\\n\\n{title}\",f\"{title} \")\n",
    "\n",
    "def create_sliding_window(text, size=256, overlap=32):\n",
    "    actual_size = size - overlap\n",
    "    windows = []\n",
    "    n_windows = math.ceil(len(text)/actual_size)\n",
    "    for i in range(n_windows):\n",
    "        windows.append(\" \".join(text[i*actual_size:i*actual_size + size]))\n",
    "    return windows"
   ]
  },
  {
   "cell_type": "code",
   "execution_count": 31,
   "id": "99214a96-5803-4ffa-9f88-692a6c14eeb0",
   "metadata": {},
   "outputs": [
    {
     "data": {
      "application/vnd.jupyter.widget-view+json": {
       "model_id": "7d752b485bab4b24a9af9b267d50e86b",
       "version_major": 2,
       "version_minor": 0
      },
      "text/plain": [
       "0it [00:00, ?it/s]"
      ]
     },
     "metadata": {},
     "output_type": "display_data"
    }
   ],
   "source": [
    "all_titles = []\n",
    "all_texts = []\n",
    "all_bm25_texts = []\n",
    "with open(\"../za-data/wikipedia_20220620_cleaned.jsonl\") as f:\n",
    "    for i,line in tqdm(enumerate(f)):\n",
    "        text = remove_appending_title(x[\"text\"],x[\"title\"])\n",
    "        # print(y, \"|\", text[:50],\"\\n\")\n",
    "        text = text.split(\" \")\n",
    "        sliding_windows = create_sliding_window(text)\n",
    "        # bm25_windows = [\" \".join(basic_tokenizer(w)) for w in sliding_windows]\n",
    "        all_texts.extend(sliding_windows)\n",
    "        # all_bm25_texts.extend(bm25_windows)\n",
    "        all_titles.extend([x['title'],]*len(sliding_windows))"
   ]
  },
  {
   "cell_type": "code",
   "execution_count": 32,
   "id": "9ac0a242-cc03-4009-b049-801db7c419f3",
   "metadata": {},
   "outputs": [],
   "source": [
    "df = pd.DataFrame()\n",
    "df[\"title\"] = all_titles\n",
    "df[\"text\"] = all_texts"
   ]
  },
  {
   "cell_type": "code",
   "execution_count": 34,
   "id": "f19944a6-3d1b-413b-aef4-ce462b8328e2",
   "metadata": {},
   "outputs": [
    {
     "name": "stdout",
     "output_type": "stream",
     "text": [
      "INFO: Pandarallel will run on 12 workers.\n",
      "INFO: Pandarallel will use standard multiprocessing data transfer (pipe) to transfer data between the main process and workers.\n"
     ]
    },
    {
     "data": {
      "application/vnd.jupyter.widget-view+json": {
       "model_id": "0fb519a5b0e04cca9b033ae9ac293073",
       "version_major": 2,
       "version_minor": 0
      },
      "text/plain": [
       "VBox(children=(HBox(children=(IntProgress(value=0, description='0.00%', max=162034), Label(value='0 / 162034')…"
      ]
     },
     "metadata": {},
     "output_type": "display_data"
    }
   ],
   "source": [
    "from pandarallel import pandarallel\n",
    "\n",
    "pandarallel.initialize(progress_bar=True, use_memory_fs=False, nb_workers=12)\n",
    "df[\"bm25_text\"] = df[\"text\"].parallel_apply(lambda x: \" \".join(basic_tokenizer(x)))"
   ]
  },
  {
   "cell_type": "code",
   "execution_count": 40,
   "id": "b1107dae-3daf-427d-9070-2706412b37a9",
   "metadata": {},
   "outputs": [],
   "source": [
    "df.to_csv(\"../processed/wikipedia_20220620_cleaned_v2.csv\",index=False)"
   ]
  },
  {
   "cell_type": "code",
   "execution_count": null,
   "id": "2ef647fe-047f-4d1b-a2cb-558e194cc34d",
   "metadata": {},
   "outputs": [],
   "source": []
  }
 ],
 "metadata": {
  "kernelspec": {
   "display_name": "Python 3 (ipykernel)",
   "language": "python",
   "name": "python3"
  },
  "language_info": {
   "codemirror_mode": {
    "name": "ipython",
    "version": 3
   },
   "file_extension": ".py",
   "mimetype": "text/x-python",
   "name": "python",
   "nbconvert_exporter": "python",
   "pygments_lexer": "ipython3",
   "version": "3.10.6"
  }
 },
 "nbformat": 4,
 "nbformat_minor": 5
}
