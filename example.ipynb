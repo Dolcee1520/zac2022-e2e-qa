{
 "cells": [
  {
   "cell_type": "code",
   "execution_count": 1,
   "id": "b845a5d0",
   "metadata": {},
   "outputs": [
    {
     "name": "stdout",
     "output_type": "stream",
     "text": [
      "Note: to be able to use all crisp methods, you need to install some additional packages:  {'wurlitzer', 'leidenalg', 'graph_tool', 'infomap', 'karateclub'}\n",
      "Note: to be able to use all overlapping methods, you need to install some additional packages:  {'ASLPAw', 'karateclub'}\n",
      "Note: to be able to use all bipartite methods, you need to install some additional packages:  {'wurlitzer', 'leidenalg', 'infomap'}\n"
     ]
    }
   ],
   "source": [
    "from pairwise_model import *\n",
    "from text_utils import *\n",
    "import regex as re\n",
    "from bm25_utils import BM25Gensim\n",
    "from qa_model import *\n",
    "from tqdm.auto import tqdm\n",
    "tqdm.pandas()"
   ]
  },
  {
   "cell_type": "code",
   "execution_count": 2,
   "id": "7f46791e",
   "metadata": {},
   "outputs": [],
   "source": [
    "df_wiki_windows = pd.read_csv(\"./data/wikipedia_20220620_cleaned_v2.csv\")\n",
    "df_wiki = pd.read_csv(\"./data/wikipedia_20220620_short.csv\")\n",
    "df_wiki.title = df_wiki.title.apply(str)"
   ]
  },
  {
   "cell_type": "code",
   "execution_count": 3,
   "id": "94147c24",
   "metadata": {},
   "outputs": [],
   "source": [
    "entity_dict = json.load(open(\"./data/entities.json\"))\n",
    "new_dict = dict()\n",
    "for key, val in entity_dict.items():\n",
    "    val = val.replace(\"wiki/\", \"\").replace(\"_\", \" \")\n",
    "    entity_dict[key] = val\n",
    "    key = preprocess(key)\n",
    "    new_dict[key.lower()] = val\n",
    "entity_dict.update(new_dict)\n",
    "title2idx = dict([(x.strip(), y) for x, y in zip(df_wiki.title, df_wiki.index.values)])"
   ]
  },
  {
   "cell_type": "code",
   "execution_count": 4,
   "id": "e9289cae",
   "metadata": {},
   "outputs": [
    {
     "name": "stderr",
     "output_type": "stream",
     "text": [
      "Some weights of the model checkpoint at nguyenvulebinh/vi-mrc-base were not used when initializing RobertaModel: ['qa_outputs.bias', 'qa_outputs.weight']\n",
      "- This IS expected if you are initializing RobertaModel from the checkpoint of a model trained on another task or with another architecture (e.g. initializing a BertForSequenceClassification model from a BertForPreTraining model).\n",
      "- This IS NOT expected if you are initializing RobertaModel from the checkpoint of a model that you expect to be exactly identical (initializing a BertForSequenceClassification model from a BertForSequenceClassification model).\n",
      "Some weights of RobertaModel were not initialized from the model checkpoint at nguyenvulebinh/vi-mrc-base and are newly initialized: ['roberta.pooler.dense.weight', 'roberta.pooler.dense.bias']\n",
      "You should probably TRAIN this model on a down-stream task to be able to use it for predictions and inference.\n",
      "Some weights of the model checkpoint at nguyenvulebinh/vi-mrc-base were not used when initializing RobertaModel: ['qa_outputs.bias', 'qa_outputs.weight']\n",
      "- This IS expected if you are initializing RobertaModel from the checkpoint of a model trained on another task or with another architecture (e.g. initializing a BertForSequenceClassification model from a BertForPreTraining model).\n",
      "- This IS NOT expected if you are initializing RobertaModel from the checkpoint of a model that you expect to be exactly identical (initializing a BertForSequenceClassification model from a BertForSequenceClassification model).\n",
      "Some weights of RobertaModel were not initialized from the model checkpoint at nguyenvulebinh/vi-mrc-base and are newly initialized: ['roberta.pooler.dense.weight', 'roberta.pooler.dense.bias']\n",
      "You should probably TRAIN this model on a down-stream task to be able to use it for predictions and inference.\n"
     ]
    },
    {
     "data": {
      "text/plain": [
       "<All keys matched successfully>"
      ]
     },
     "execution_count": 4,
     "metadata": {},
     "output_type": "execute_result"
    }
   ],
   "source": [
    "qa_model = QAEnsembleModel(\"nguyenvulebinh/vi-mrc-large\", [\"./data/qa_model_robust.bin\"], entity_dict)\n",
    "pairwise_model_stage1 = PairwiseModel(\"nguyenvulebinh/vi-mrc-base\").half()\n",
    "pairwise_model_stage1.load_state_dict(torch.load(\"./data/pairwise_v2.bin\"))\n",
    "pairwise_model_stage1.eval()\n",
    "\n",
    "pairwise_model_stage2 = PairwiseModel(\"nguyenvulebinh/vi-mrc-base\").half()\n",
    "pairwise_model_stage2.load_state_dict(torch.load(\"./data/pairwise_stage2_seed0.bin\"))"
   ]
  },
  {
   "cell_type": "code",
   "execution_count": 5,
   "id": "0754ab7f",
   "metadata": {},
   "outputs": [],
   "source": [
    "bm25_model_stage1 = BM25Gensim(\"./data/bm25_stage1/\", entity_dict, title2idx)\n",
    "bm25_model_stage2_full = BM25Gensim(\"./data/bm25_stage2/full_text/\", entity_dict, title2idx)\n",
    "bm25_model_stage2_title = BM25Gensim(\"./data/bm25_stage2/title/\", entity_dict, title2idx)"
   ]
  },
  {
   "cell_type": "code",
   "execution_count": 28,
   "id": "938e33fd",
   "metadata": {},
   "outputs": [],
   "source": [
    "def get_answer_e2e(question):\n",
    "    #Bm25 retrieval for top200 candidates\n",
    "    query = preprocess(question).lower()\n",
    "    top_n, bm25_scores = bm25_model_stage1.get_topk_stage1(query, topk=200)\n",
    "    titles = [preprocess(df_wiki_windows.title.values[i]) for i in top_n]\n",
    "    texts = [preprocess(df_wiki_windows.text.values[i]) for i in top_n]\n",
    "    \n",
    "    #Reranking with pairwise model for top10\n",
    "    question = preprocess(question)\n",
    "    ranking_preds = pairwise_model_stage1.stage1_ranking(question, texts)\n",
    "    ranking_scores = ranking_preds * bm25_scores\n",
    "    \n",
    "    #Question answering\n",
    "    best_idxs = np.argsort(ranking_scores)[-10:]\n",
    "    ranking_scores = np.array(ranking_scores)[best_idxs]\n",
    "    texts = np.array(texts)[best_idxs]\n",
    "    best_answer = qa_model(question, texts, ranking_scores)\n",
    "    if best_answer is None:\n",
    "        return \"Chịu\"\n",
    "    bm25_answer = preprocess(str(best_answer).lower(), max_length=128, remove_puncts=True)\n",
    "    \n",
    "    #Entity mapping\n",
    "    if not check_number(bm25_answer):\n",
    "        bm25_question = preprocess(str(question).lower(), max_length=128, remove_puncts=True)\n",
    "        bm25_question_answer = bm25_question + \" \" + bm25_answer\n",
    "        candidates, scores = bm25_model_stage2_title.get_topk_stage2(bm25_answer, raw_answer=best_answer)\n",
    "        titles = [df_wiki.title.values[i] for i in candidates]\n",
    "        texts = [df_wiki.text.values[i] for i in candidates]\n",
    "        ranking_preds = pairwise_model_stage2.stage2_ranking(question, best_answer, titles, texts)\n",
    "        if ranking_preds.max() >= 0.1:\n",
    "            final_answer = titles[ranking_preds.argmax()]\n",
    "        else:\n",
    "            candidates, scores = bm25_model_stage2_full.get_topk_stage2(bm25_question_answer)\n",
    "            titles = [df_wiki.title.values[i] for i in candidates] + titles\n",
    "            texts = [df_wiki.text.values[i] for i in candidates] + texts\n",
    "            ranking_preds = np.concatenate(\n",
    "                [pairwise_model_stage2.stage2_ranking(question, best_answer, titles, texts), ranking_preds])\n",
    "        final_answer = \"wiki/\"+titles[ranking_preds.argmax()].replace(\" \",\"_\")\n",
    "    else:\n",
    "        final_answer = bm25_answer.lower()\n",
    "    return final_answer"
   ]
  },
  {
   "cell_type": "code",
   "execution_count": 7,
   "id": "e26655f1",
   "metadata": {},
   "outputs": [
    {
     "data": {
      "text/plain": [
       "'Chịu'"
      ]
     },
     "execution_count": 7,
     "metadata": {},
     "output_type": "execute_result"
    }
   ],
   "source": [
    "get_answer_e2e(\"Ai đẹp nhất Zalo\")"
   ]
  },
  {
   "cell_type": "code",
   "execution_count": 11,
   "id": "70738c5d",
   "metadata": {},
   "outputs": [
    {
     "data": {
      "text/plain": [
       "'wiki/Thanh_Hóa'"
      ]
     },
     "execution_count": 11,
     "metadata": {},
     "output_type": "execute_result"
    }
   ],
   "source": [
    "get_answer_e2e(\"Nhudq đang làm việc ở đâu\")"
   ]
  },
  {
   "cell_type": "code",
   "execution_count": 12,
   "id": "a4433257",
   "metadata": {},
   "outputs": [
    {
     "data": {
      "text/plain": [
       "'wiki/J._R._R._Tolkien'"
      ]
     },
     "execution_count": 12,
     "metadata": {},
     "output_type": "execute_result"
    }
   ],
   "source": [
    "get_answer_e2e(\"Ai là tác giả Lord of the Rings\")"
   ]
  },
  {
   "cell_type": "code",
   "execution_count": 34,
   "id": "76f19e9f",
   "metadata": {},
   "outputs": [],
   "source": [
    "qa_model.thr = 0.05"
   ]
  },
  {
   "cell_type": "code",
   "execution_count": 62,
   "id": "c5709908",
   "metadata": {},
   "outputs": [
    {
     "data": {
      "text/plain": [
       "'wiki/Kiyoura_Keigo'"
      ]
     },
     "execution_count": 62,
     "metadata": {},
     "output_type": "execute_result"
    }
   ],
   "source": [
    "get_answer_e2e(\"thủ tướng Nhật Bản là ai?\")"
   ]
  },
  {
   "cell_type": "code",
   "execution_count": null,
   "id": "929ff01c",
   "metadata": {},
   "outputs": [],
   "source": []
  }
 ],
 "metadata": {
  "kernelspec": {
   "display_name": "Python 3 (ipykernel)",
   "language": "python",
   "name": "python3"
  },
  "language_info": {
   "codemirror_mode": {
    "name": "ipython",
    "version": 3
   },
   "file_extension": ".py",
   "mimetype": "text/x-python",
   "name": "python",
   "nbconvert_exporter": "python",
   "pygments_lexer": "ipython3",
   "version": "3.10.8"
  }
 },
 "nbformat": 4,
 "nbformat_minor": 5
}
